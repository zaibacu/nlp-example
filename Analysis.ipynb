{
 "cells": [
  {
   "cell_type": "markdown",
   "id": "0040e1b7",
   "metadata": {},
   "source": [
    "# Classification"
   ]
  },
  {
   "cell_type": "markdown",
   "id": "4b131352",
   "metadata": {},
   "source": [
    "## Training Model"
   ]
  },
  {
   "cell_type": "code",
   "execution_count": 69,
   "id": "2b77761d",
   "metadata": {},
   "outputs": [],
   "source": [
    "import pandas as pd\n",
    "import numpy as np\n",
    "from gensim.corpora import Dictionary\n",
    "from gensim.utils import tokenize"
   ]
  },
  {
   "cell_type": "code",
   "execution_count": 70,
   "id": "3737c23c",
   "metadata": {},
   "outputs": [],
   "source": [
    "data = pd.read_csv(\"data/ArticlesApril2017.csv\")"
   ]
  },
  {
   "cell_type": "code",
   "execution_count": 71,
   "id": "d10ee1f4",
   "metadata": {},
   "outputs": [],
   "source": [
    "df = data[[\"articleID\", \"newDesk\", \"headline\", \"keywords\", \"snippet\"]]"
   ]
  },
  {
   "cell_type": "code",
   "execution_count": 72,
   "id": "2cc931c9",
   "metadata": {},
   "outputs": [
    {
     "data": {
      "text/html": [
       "<div>\n",
       "<style scoped>\n",
       "    .dataframe tbody tr th:only-of-type {\n",
       "        vertical-align: middle;\n",
       "    }\n",
       "\n",
       "    .dataframe tbody tr th {\n",
       "        vertical-align: top;\n",
       "    }\n",
       "\n",
       "    .dataframe thead th {\n",
       "        text-align: right;\n",
       "    }\n",
       "</style>\n",
       "<table border=\"1\" class=\"dataframe\">\n",
       "  <thead>\n",
       "    <tr style=\"text-align: right;\">\n",
       "      <th></th>\n",
       "      <th>articleID</th>\n",
       "      <th>newDesk</th>\n",
       "      <th>headline</th>\n",
       "      <th>keywords</th>\n",
       "      <th>snippet</th>\n",
       "    </tr>\n",
       "  </thead>\n",
       "  <tbody>\n",
       "    <tr>\n",
       "      <th>0</th>\n",
       "      <td>58def1347c459f24986d7c80</td>\n",
       "      <td>Insider</td>\n",
       "      <td>Finding an Expansive View  of a Forgotten Peop...</td>\n",
       "      <td>['Photography', 'New York Times', 'Niger', 'Fe...</td>\n",
       "      <td>One of the largest photo displays in Times his...</td>\n",
       "    </tr>\n",
       "    <tr>\n",
       "      <th>1</th>\n",
       "      <td>58def3237c459f24986d7c84</td>\n",
       "      <td>OpEd</td>\n",
       "      <td>And Now,  the Dreaded Trump Curse</td>\n",
       "      <td>['United States Politics and Government', 'Tru...</td>\n",
       "      <td>Meet the gang from under the bus.</td>\n",
       "    </tr>\n",
       "    <tr>\n",
       "      <th>2</th>\n",
       "      <td>58def9f57c459f24986d7c90</td>\n",
       "      <td>Editorial</td>\n",
       "      <td>Venezuela’s Descent Into Dictatorship</td>\n",
       "      <td>['Venezuela', 'Politics and Government', 'Madu...</td>\n",
       "      <td>A court ruling annulling the legislature’s aut...</td>\n",
       "    </tr>\n",
       "    <tr>\n",
       "      <th>3</th>\n",
       "      <td>58defd317c459f24986d7c95</td>\n",
       "      <td>Sports</td>\n",
       "      <td>Stain Permeates Basketball Blue Blood</td>\n",
       "      <td>['Basketball (College)', 'University of North ...</td>\n",
       "      <td>For two decades, until 2013, North Carolina en...</td>\n",
       "    </tr>\n",
       "    <tr>\n",
       "      <th>4</th>\n",
       "      <td>58df09b77c459f24986d7ca7</td>\n",
       "      <td>Games</td>\n",
       "      <td>Taking Things for Granted</td>\n",
       "      <td>['Crossword Puzzles']</td>\n",
       "      <td>In which Howard Barkin and Will Shortz teach u...</td>\n",
       "    </tr>\n",
       "    <tr>\n",
       "      <th>...</th>\n",
       "      <td>...</td>\n",
       "      <td>...</td>\n",
       "      <td>...</td>\n",
       "      <td>...</td>\n",
       "      <td>...</td>\n",
       "    </tr>\n",
       "    <tr>\n",
       "      <th>881</th>\n",
       "      <td>58fd41ab7c459f24986dbaa7</td>\n",
       "      <td>Insider</td>\n",
       "      <td>Reporting on Gays Who ‘Don’t Exist’</td>\n",
       "      <td>['Chechnya (Russia)', 'Homosexuality and Bisex...</td>\n",
       "      <td>“I see flies, I see mosquitoes,” said a Cheche...</td>\n",
       "    </tr>\n",
       "    <tr>\n",
       "      <th>882</th>\n",
       "      <td>58fd45a17c459f24986dbaaa</td>\n",
       "      <td>National</td>\n",
       "      <td>The Fights That Could Lead to a Government Shu...</td>\n",
       "      <td>['Trump, Donald J', 'United States Politics an...</td>\n",
       "      <td>The Trump administration wants to use the dead...</td>\n",
       "    </tr>\n",
       "    <tr>\n",
       "      <th>883</th>\n",
       "      <td>58fd5c2c7c459f24986dbac3</td>\n",
       "      <td>Culture</td>\n",
       "      <td>‘The Leftovers’ Season 3, Episode 2: Swedish P...</td>\n",
       "      <td>['Television', 'The Leftovers (TV Program)']</td>\n",
       "      <td>For all its melancholy, “The Leftovers” rarely...</td>\n",
       "    </tr>\n",
       "    <tr>\n",
       "      <th>884</th>\n",
       "      <td>58fd5c3d7c459f24986dbac4</td>\n",
       "      <td>Culture</td>\n",
       "      <td>Thinking Out Loud, But Why?</td>\n",
       "      <td>['Theater', 'The Antipodes (Play)', 'Baker, An...</td>\n",
       "      <td>In this endlessly fascinating work, Annie Bake...</td>\n",
       "    </tr>\n",
       "    <tr>\n",
       "      <th>885</th>\n",
       "      <td>58fd5c3d7c459f24986dbac5</td>\n",
       "      <td>Culture</td>\n",
       "      <td>Some Sugar. Could Use More Spice.</td>\n",
       "      <td>['Theater', 'Charlie and the Chocolate Factory...</td>\n",
       "      <td>Christian Borle is the eccentric Willy Wonka i...</td>\n",
       "    </tr>\n",
       "  </tbody>\n",
       "</table>\n",
       "<p>886 rows × 5 columns</p>\n",
       "</div>"
      ],
      "text/plain": [
       "                    articleID    newDesk  \\\n",
       "0    58def1347c459f24986d7c80    Insider   \n",
       "1    58def3237c459f24986d7c84       OpEd   \n",
       "2    58def9f57c459f24986d7c90  Editorial   \n",
       "3    58defd317c459f24986d7c95     Sports   \n",
       "4    58df09b77c459f24986d7ca7      Games   \n",
       "..                        ...        ...   \n",
       "881  58fd41ab7c459f24986dbaa7    Insider   \n",
       "882  58fd45a17c459f24986dbaaa   National   \n",
       "883  58fd5c2c7c459f24986dbac3    Culture   \n",
       "884  58fd5c3d7c459f24986dbac4    Culture   \n",
       "885  58fd5c3d7c459f24986dbac5    Culture   \n",
       "\n",
       "                                              headline  \\\n",
       "0    Finding an Expansive View  of a Forgotten Peop...   \n",
       "1                    And Now,  the Dreaded Trump Curse   \n",
       "2                Venezuela’s Descent Into Dictatorship   \n",
       "3                Stain Permeates Basketball Blue Blood   \n",
       "4                            Taking Things for Granted   \n",
       "..                                                 ...   \n",
       "881                Reporting on Gays Who ‘Don’t Exist’   \n",
       "882  The Fights That Could Lead to a Government Shu...   \n",
       "883  ‘The Leftovers’ Season 3, Episode 2: Swedish P...   \n",
       "884                        Thinking Out Loud, But Why?   \n",
       "885                  Some Sugar. Could Use More Spice.   \n",
       "\n",
       "                                              keywords  \\\n",
       "0    ['Photography', 'New York Times', 'Niger', 'Fe...   \n",
       "1    ['United States Politics and Government', 'Tru...   \n",
       "2    ['Venezuela', 'Politics and Government', 'Madu...   \n",
       "3    ['Basketball (College)', 'University of North ...   \n",
       "4                                ['Crossword Puzzles']   \n",
       "..                                                 ...   \n",
       "881  ['Chechnya (Russia)', 'Homosexuality and Bisex...   \n",
       "882  ['Trump, Donald J', 'United States Politics an...   \n",
       "883       ['Television', 'The Leftovers (TV Program)']   \n",
       "884  ['Theater', 'The Antipodes (Play)', 'Baker, An...   \n",
       "885  ['Theater', 'Charlie and the Chocolate Factory...   \n",
       "\n",
       "                                               snippet  \n",
       "0    One of the largest photo displays in Times his...  \n",
       "1                    Meet the gang from under the bus.  \n",
       "2    A court ruling annulling the legislature’s aut...  \n",
       "3    For two decades, until 2013, North Carolina en...  \n",
       "4    In which Howard Barkin and Will Shortz teach u...  \n",
       "..                                                 ...  \n",
       "881  “I see flies, I see mosquitoes,” said a Cheche...  \n",
       "882  The Trump administration wants to use the dead...  \n",
       "883  For all its melancholy, “The Leftovers” rarely...  \n",
       "884  In this endlessly fascinating work, Annie Bake...  \n",
       "885  Christian Borle is the eccentric Willy Wonka i...  \n",
       "\n",
       "[886 rows x 5 columns]"
      ]
     },
     "execution_count": 72,
     "metadata": {},
     "output_type": "execute_result"
    }
   ],
   "source": [
    "df"
   ]
  },
  {
   "cell_type": "code",
   "execution_count": 82,
   "id": "961c1b90",
   "metadata": {},
   "outputs": [],
   "source": [
    "tokens = [list(tokenize(row)) for row in df[\"snippet\"].values]"
   ]
  },
  {
   "cell_type": "code",
   "execution_count": 90,
   "id": "feb9b50b",
   "metadata": {},
   "outputs": [],
   "source": [
    "d = Dictionary(tokens)"
   ]
  },
  {
   "cell_type": "code",
   "execution_count": 98,
   "id": "887dc26d",
   "metadata": {},
   "outputs": [],
   "source": [
    "corpus = [d.doc2bow(row) for row in tokens]"
   ]
  },
  {
   "cell_type": "code",
   "execution_count": 103,
   "id": "073e9e44",
   "metadata": {},
   "outputs": [],
   "source": [
    "from gensim.models import TfidfModel"
   ]
  },
  {
   "cell_type": "code",
   "execution_count": 104,
   "id": "19dcd81f",
   "metadata": {},
   "outputs": [],
   "source": [
    "tf = TfidfModel(corpus)"
   ]
  },
  {
   "cell_type": "code",
   "execution_count": 105,
   "id": "ae84475f",
   "metadata": {},
   "outputs": [
    {
     "data": {
      "text/plain": [
       "[(0, 0.30390195405303666),\n",
       " (1, 0.30390195405303666),\n",
       " (2, 0.2728635618301608),\n",
       " (3, 0.15631789078523653),\n",
       " (4, 0.10191047150462035),\n",
       " (5, 0.11239740187254238),\n",
       " (6, 0.30390195405303666),\n",
       " (7, 0.2547072662971033),\n",
       " (8, 0.30390195405303666),\n",
       " (9, 0.11837679536152494),\n",
       " (10, 0.200794646907732),\n",
       " (11, 0.2728635618301608),\n",
       " (12, 0.05811317093519547),\n",
       " (13, 0.17703367918987814),\n",
       " (14, 0.2728635618301608),\n",
       " (15, 0.07966737411773732),\n",
       " (16, 0.15631789078523653),\n",
       " (17, 0.2547072662971033),\n",
       " (18, 0.30390195405303666),\n",
       " (19, 0.022924796267902687),\n",
       " (20, 0.13149644663785265)]"
      ]
     },
     "execution_count": 105,
     "metadata": {},
     "output_type": "execute_result"
    }
   ],
   "source": [
    "tf[corpus[0]]"
   ]
  },
  {
   "cell_type": "code",
   "execution_count": 108,
   "id": "ef1afcd3",
   "metadata": {},
   "outputs": [],
   "source": [
    "M = len(tokens)\n",
    "N = len(d)"
   ]
  },
  {
   "cell_type": "code",
   "execution_count": 113,
   "id": "6c4c1287",
   "metadata": {},
   "outputs": [],
   "source": [
    "X = np.zeros((M, N))\n",
    "for i, doc in enumerate(corpus):\n",
    "    for idx, val in tf[doc]:\n",
    "        X[(i, idx)] = val"
   ]
  },
  {
   "cell_type": "code",
   "execution_count": 121,
   "id": "0d954a8f",
   "metadata": {},
   "outputs": [],
   "source": [
    "id_by_label = dict([(v, i) for i, v in enumerate(set(df[\"newDesk\"].values))])\n",
    "label_by_id = dict([(v, k) for k, v in id_by_label.items()])"
   ]
  },
  {
   "cell_type": "code",
   "execution_count": 124,
   "id": "bc674f5f",
   "metadata": {},
   "outputs": [],
   "source": [
    "y = [id_by_label[label] for label in df[\"newDesk\"].values]"
   ]
  },
  {
   "cell_type": "code",
   "execution_count": 126,
   "id": "81956167",
   "metadata": {},
   "outputs": [],
   "source": [
    "from sklearn.naive_bayes import GaussianNB"
   ]
  },
  {
   "cell_type": "code",
   "execution_count": 146,
   "id": "fd10b764",
   "metadata": {},
   "outputs": [],
   "source": [
    "model = GaussianNB()"
   ]
  },
  {
   "cell_type": "code",
   "execution_count": 171,
   "id": "fafdfb02",
   "metadata": {},
   "outputs": [],
   "source": [
    "from sklearn.model_selection import train_test_split\n",
    "from sklearn.model_selection import cross_val_score\n",
    "\n",
    "X_train, X_test, y_train, y_test = train_test_split(X, y, test_size=0.3)"
   ]
  },
  {
   "cell_type": "code",
   "execution_count": 147,
   "id": "8a900731",
   "metadata": {},
   "outputs": [
    {
     "data": {
      "text/plain": [
       "GaussianNB()"
      ]
     },
     "execution_count": 147,
     "metadata": {},
     "output_type": "execute_result"
    }
   ],
   "source": [
    "model.fit(X, y)"
   ]
  },
  {
   "cell_type": "markdown",
   "id": "b112b9a7",
   "metadata": {},
   "source": [
    "## Testing model"
   ]
  },
  {
   "cell_type": "code",
   "execution_count": 160,
   "id": "335bbd80",
   "metadata": {},
   "outputs": [],
   "source": [
    "text = \"The Trump is calling for war\"\n",
    "\n",
    "test_corpus = d.doc2bow(list(tokenize(text)))\n",
    "\n",
    "Xs = np.zeros((1, N))\n",
    "for idx, val in tf[test_corpus]:\n",
    "    Xs[(0, idx)] = val"
   ]
  },
  {
   "cell_type": "code",
   "execution_count": 161,
   "id": "036fa6c7",
   "metadata": {},
   "outputs": [
    {
     "data": {
      "text/plain": [
       "array([6])"
      ]
     },
     "execution_count": 161,
     "metadata": {},
     "output_type": "execute_result"
    }
   ],
   "source": [
    "model.predict(Xs)"
   ]
  },
  {
   "cell_type": "code",
   "execution_count": 163,
   "id": "304a0a3b",
   "metadata": {},
   "outputs": [
    {
     "data": {
      "text/plain": [
       "'Learning'"
      ]
     },
     "execution_count": 163,
     "metadata": {},
     "output_type": "execute_result"
    }
   ],
   "source": [
    "label_by_id[6]"
   ]
  },
  {
   "cell_type": "code",
   "execution_count": null,
   "id": "77a9e1a3",
   "metadata": {},
   "outputs": [],
   "source": []
  }
 ],
 "metadata": {
  "kernelspec": {
   "display_name": "vdu-analysis",
   "language": "python",
   "name": "vdu-analysis"
  },
  "language_info": {
   "codemirror_mode": {
    "name": "ipython",
    "version": 3
   },
   "file_extension": ".py",
   "mimetype": "text/x-python",
   "name": "python",
   "nbconvert_exporter": "python",
   "pygments_lexer": "ipython3",
   "version": "3.9.1"
  }
 },
 "nbformat": 4,
 "nbformat_minor": 5
}
