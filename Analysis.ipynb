{
 "cells": [
  {
   "cell_type": "markdown",
   "id": "63828023",
   "metadata": {},
   "source": [
    "# Classification"
   ]
  },
  {
   "cell_type": "code",
   "execution_count": 16,
   "id": "35ba4d49",
   "metadata": {},
   "outputs": [],
   "source": [
    "import pandas as pd\n",
    "from gensim.corpora import Dictionary\n",
    "from gensim.utils import tokenize"
   ]
  },
  {
   "cell_type": "code",
   "execution_count": 3,
   "id": "7afbbfc8",
   "metadata": {},
   "outputs": [],
   "source": [
    "data = pd.read_csv(\"data/ArticlesApril2017.csv\")"
   ]
  },
  {
   "cell_type": "code",
   "execution_count": 6,
   "id": "c2b2d396",
   "metadata": {},
   "outputs": [],
   "source": [
    "df = data[[\"articleID\", \"newDesk\", \"headline\", \"keywords\", \"snippet\"]]"
   ]
  },
  {
   "cell_type": "code",
   "execution_count": 19,
   "id": "6c8eef51",
   "metadata": {},
   "outputs": [],
   "source": [
    "tokens = [list(tokenize(snippet)) for snippet in  df[\"snippet\"].values]"
   ]
  },
  {
   "cell_type": "code",
   "execution_count": 21,
   "id": "ed0dc42a",
   "metadata": {},
   "outputs": [],
   "source": [
    "d = Dictionary(tokens)"
   ]
  },
  {
   "cell_type": "code",
   "execution_count": 26,
   "id": "0111bda8",
   "metadata": {},
   "outputs": [],
   "source": [
    "corpus = [d.doc2bow(item) for item in tokens]"
   ]
  },
  {
   "cell_type": "code",
   "execution_count": 29,
   "id": "92716279",
   "metadata": {},
   "outputs": [],
   "source": [
    "from gensim.models import TfidfModel"
   ]
  },
  {
   "cell_type": "code",
   "execution_count": 31,
   "id": "ba6b2656",
   "metadata": {},
   "outputs": [],
   "source": [
    "tf = TfidfModel(corpus)"
   ]
  },
  {
   "cell_type": "code",
   "execution_count": 34,
   "id": "94ddbd95",
   "metadata": {},
   "outputs": [
    {
     "data": {
      "text/plain": [
       "[(12, 0.056850639464427324),\n",
       " (40, 0.266935493743485),\n",
       " (41, 0.18844550895015216),\n",
       " (42, 0.2010477370281112),\n",
       " (43, 0.06767909913676218),\n",
       " (44, 0.29729956470058233),\n",
       " (45, 0.10644916573315222),\n",
       " (46, 0.29729956470058233),\n",
       " (47, 0.19643230431304742),\n",
       " (48, 0.266935493743485),\n",
       " (49, 0.2267963752701447),\n",
       " (50, 0.266935493743485),\n",
       " (51, 0.2267963752701447),\n",
       " (52, 0.29729956470058233),\n",
       " (53, 0.13152899564685885),\n",
       " (54, 0.29729956470058233),\n",
       " (55, 0.20620735182929043),\n",
       " (56, 0.23657142278638776),\n",
       " (57, 0.08407189013895015),\n",
       " (58, 0.1683151922617754),\n",
       " (59, 0.2120568406454689)]"
      ]
     },
     "execution_count": 34,
     "metadata": {},
     "output_type": "execute_result"
    }
   ],
   "source": [
    "tf[corpus[3]]"
   ]
  },
  {
   "cell_type": "code",
   "execution_count": 37,
   "id": "cdcf2aba",
   "metadata": {},
   "outputs": [],
   "source": [
    "X = [list(tf[corpus]) for row in corpus]"
   ]
  },
  {
   "cell_type": "code",
   "execution_count": null,
   "id": "68fe460b",
   "metadata": {},
   "outputs": [],
   "source": [
    "X"
   ]
  },
  {
   "cell_type": "code",
   "execution_count": null,
   "id": "bf6d5765",
   "metadata": {},
   "outputs": [],
   "source": []
  }
 ],
 "metadata": {
  "kernelspec": {
   "display_name": "vdu-analysis",
   "language": "python",
   "name": "vdu-analysis"
  },
  "language_info": {
   "codemirror_mode": {
    "name": "ipython",
    "version": 3
   },
   "file_extension": ".py",
   "mimetype": "text/x-python",
   "name": "python",
   "nbconvert_exporter": "python",
   "pygments_lexer": "ipython3",
   "version": "3.8.10"
  }
 },
 "nbformat": 4,
 "nbformat_minor": 5
}
